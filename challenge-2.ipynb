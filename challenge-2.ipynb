{
 "cells": [
  {
   "cell_type": "markdown",
   "id": "0809e785",
   "metadata": {},
   "source": [
    "# 1. Import the necessary libraries for you to be able to query 4square API"
   ]
  },
  {
   "cell_type": "code",
   "execution_count": 4,
   "id": "9b373771",
   "metadata": {},
   "outputs": [],
   "source": [
    "import requests\n",
    "import json\n",
    "import os\n",
    "import pandas as pd\n"
   ]
  },
  {
   "cell_type": "markdown",
   "id": "e94dce92",
   "metadata": {},
   "source": [
    "# 2. Get names and location of the 10 coffee places by passing Ironhack as your location"
   ]
  },
  {
   "cell_type": "code",
   "execution_count": 5,
   "id": "1d72f571",
   "metadata": {},
   "outputs": [
    {
     "name": "stdout",
     "output_type": "stream",
     "text": [
      "Bucólico Café - Calle Barbieri, 4, 28004 Madrid Comunidad de Madrid\n",
      "Chocolatería San Ginés - Pasadizo de San Ginés, 5 (C. Arenal), 28013 Madrid Comunidad de Madrid\n",
      "Valdemeso - Mesonero Romanos, 8, 28013 Madrid Comunidad de Madrid\n",
      "Oink Jamón Ibérico - Calle Gran Vía, 22, 28013 Madrid Comunidad de Madrid\n",
      "Brunch Club - Calle del Barco, 15, 28004 Madrid Comunidad de Madrid\n",
      "Ruda Café - Calle Ruda, 11, 28005 Madrid Comunidad de Madrid\n",
      "Osom Cantine - Calle de Santa Teresa, 2, local 2, 28014 Madrid Comunidad de Madrid\n",
      "HanSo Café - Calle del Pez, 20, 28004 Madrid Comunidad de Madrid\n",
      "Caravan Cafe - Calle de Lavapiés, 32, Madrid Comunidad de Madrid\n",
      "Federal Café 2 - Plaza Conde de Barajas, 3, 28005 Madrid Comunidad de Madrid\n"
     ]
    }
   ],
   "source": [
    "# Define your API key\n",
    "api_key = \"fsq3ua10RsqeNLTtC0b7F/FZ5nj6iBJ+ZD1eFUcTWsmxBqU=\"\n",
    "\n",
    "# Define request details\n",
    "url = \"https://api.foursquare.com/v3/places/search\"\n",
    "headers = {\n",
    "    \"Authorization\": api_key\n",
    "}\n",
    "params_10 = {\n",
    "    \"query\": \"coffee\",\n",
    "    \"near\": \"Madrid, Spain\",\n",
    "    \"limit\": 10\n",
    "}\n",
    "\n",
    "# Make the request\n",
    "response_10 = requests.get(url, headers=headers, params=params_10)\n",
    "coffee_10 = response_10.json()\n",
    "\n",
    "# Display results\n",
    "if \"results\" in coffee_10:\n",
    "    for place in coffee_10[\"results\"]:\n",
    "        name = place.get(\"name\", \"No name\")\n",
    "        address = place.get(\"location\", {}).get(\"formatted_address\", \"No address\")\n",
    "        print(f\"{name} - {address}\")\n",
    "else:\n",
    "    print(\"❌ Error or no results:\")\n",
    "    print(json.dumps(coffee_10, indent=2))\n"
   ]
  },
  {
   "cell_type": "markdown",
   "id": "941b5dbf",
   "metadata": {},
   "source": [
    "# 3. Now get the 5 CLOSEST coffe places. Make use of params: limit, near?"
   ]
  },
  {
   "cell_type": "code",
   "execution_count": 6,
   "id": "fda8ddff",
   "metadata": {},
   "outputs": [
    {
     "name": "stdout",
     "output_type": "stream",
     "text": [
      "Cantina Matadero -> (40.391515, -3.696042)\n",
      "Dot Café Bar -> (40.396051, -3.6988)\n",
      "Salon de Te al Yabal -> (40.39908, -3.700202)\n",
      "Cafetería Churrería Legazpi -> (40.391174, -3.69435)\n",
      "BBIG Delice Café -> (40.396268, -3.693275)\n"
     ]
    }
   ],
   "source": [
    "params_5 = {\n",
    "    \"query\": \"coffee\",\n",
    "    \"ll\": \"40.3925,-3.6984\",\n",
    "    \"limit\": 5\n",
    "}\n",
    "\n",
    "response_5 = requests.get(url, headers=headers, params=params_5)\n",
    "coffee_5 = response_5.json()\n",
    "\n",
    "# Print names and coordinates\n",
    "for place in coffee_5.get(\"results\", []):\n",
    "    name = place.get(\"name\", \"No name\")\n",
    "    lat = place.get(\"geocodes\", {}).get(\"main\", {}).get(\"latitude\")\n",
    "    lng = place.get(\"geocodes\", {}).get(\"main\", {}).get(\"longitude\")\n",
    "    print(f\"{name} -> ({lat}, {lng})\")\n"
   ]
  },
  {
   "cell_type": "markdown",
   "id": "d19904e8",
   "metadata": {},
   "source": [
    "# 4. Define a function that returns name, lat, long for starbucks OR restaurants AND for any given location"
   ]
  },
  {
   "cell_type": "code",
   "execution_count": 7,
   "id": "1fad5153",
   "metadata": {},
   "outputs": [
    {
     "data": {
      "text/html": [
       "<div>\n",
       "<style scoped>\n",
       "    .dataframe tbody tr th:only-of-type {\n",
       "        vertical-align: middle;\n",
       "    }\n",
       "\n",
       "    .dataframe tbody tr th {\n",
       "        vertical-align: top;\n",
       "    }\n",
       "\n",
       "    .dataframe thead th {\n",
       "        text-align: right;\n",
       "    }\n",
       "</style>\n",
       "<table border=\"1\" class=\"dataframe\">\n",
       "  <thead>\n",
       "    <tr style=\"text-align: right;\">\n",
       "      <th></th>\n",
       "      <th>name</th>\n",
       "      <th>lat</th>\n",
       "      <th>long</th>\n",
       "    </tr>\n",
       "  </thead>\n",
       "  <tbody>\n",
       "    <tr>\n",
       "      <th>0</th>\n",
       "      <td>Starbucks</td>\n",
       "      <td>40.391357</td>\n",
       "      <td>-3.701159</td>\n",
       "    </tr>\n",
       "  </tbody>\n",
       "</table>\n",
       "</div>"
      ],
      "text/plain": [
       "        name        lat      long\n",
       "0  Starbucks  40.391357 -3.701159"
      ]
     },
     "execution_count": 7,
     "metadata": {},
     "output_type": "execute_result"
    }
   ],
   "source": [
    "def foursquare_places(venue, coordinates):\n",
    "    url = \"https://api.foursquare.com/v3/places/search\"\n",
    "    headers = {\n",
    "        \"Authorization\": api_key\n",
    "    }\n",
    "    params = {\n",
    "        \"query\": venue,\n",
    "        \"ll\": coordinates,\n",
    "        \"limit\": 10\n",
    "    }\n",
    "    response = requests.get(url, headers=headers, params=params)\n",
    "    results = response.json()\n",
    "    \n",
    "    output = []\n",
    "    for place in results.get(\"results\", []):\n",
    "        output.append({\n",
    "            \"name\": place.get(\"name\"),\n",
    "            \"lat\": place.get(\"geocodes\", {}).get(\"main\", {}).get(\"latitude\"),\n",
    "            \"long\": place.get(\"geocodes\", {}).get(\"main\", {}).get(\"longitude\")\n",
    "        })\n",
    "    return output\n",
    "\n",
    "# Example usage:\n",
    "results = foursquare_places(\"starbucks\", \"40.3925,-3.6984\")\n",
    "pd.DataFrame(results)\n"
   ]
  },
  {
   "cell_type": "markdown",
   "id": "1836c1a1",
   "metadata": {},
   "source": [
    "# 5. Export it into data folder as a json: `data/coffe_shops.json`"
   ]
  },
  {
   "cell_type": "code",
   "execution_count": 8,
   "id": "7ac5f2a8",
   "metadata": {},
   "outputs": [
    {
     "name": "stdout",
     "output_type": "stream",
     "text": [
      "✅ Exported to data/coffee_shops.json\n"
     ]
    }
   ],
   "source": [
    "# Make sure the \"data\" folder exists\n",
    "os.makedirs(\"data\", exist_ok=True)\n",
    "\n",
    "# Save results to JSON\n",
    "with open(\"data/coffee_shops.json\", \"w\") as f:\n",
    "    json.dump(results, f, indent=4)\n",
    "\n",
    "print(\"✅ Exported to data/coffee_shops.json\")\n"
   ]
  },
  {
   "cell_type": "markdown",
   "id": "2d77e99d",
   "metadata": {},
   "source": [
    "# BONUS: load it into MongoDB in a collection named \"ironcoffee\" using pymongo"
   ]
  },
  {
   "cell_type": "code",
   "execution_count": 13,
   "id": "85b94955",
   "metadata": {},
   "outputs": [
    {
     "ename": "ModuleNotFoundError",
     "evalue": "No module named 'pymongo'",
     "output_type": "error",
     "traceback": [
      "\u001b[0;31m---------------------------------------------------------------------------\u001b[0m",
      "\u001b[0;31mModuleNotFoundError\u001b[0m                       Traceback (most recent call last)",
      "Cell \u001b[0;32mIn[13], line 1\u001b[0m\n\u001b[0;32m----> 1\u001b[0m \u001b[38;5;28;01mfrom\u001b[39;00m \u001b[38;5;21;01mpymongo\u001b[39;00m \u001b[38;5;28;01mimport\u001b[39;00m MongoClient\n\u001b[1;32m      2\u001b[0m \u001b[38;5;28;01mimport\u001b[39;00m \u001b[38;5;21;01mjson\u001b[39;00m\n\u001b[1;32m      4\u001b[0m \u001b[38;5;66;03m# Connect to local MongoDB\u001b[39;00m\n",
      "\u001b[0;31mModuleNotFoundError\u001b[0m: No module named 'pymongo'"
     ]
    }
   ],
   "source": [
    "from pymongo import MongoClient\n",
    "import json\n",
    "\n",
    "# Connect to local MongoDB\n",
    "client = MongoClient(\"mongodb://localhost:27017/\")\n",
    "\n",
    "# Access database and collection\n",
    "db = client[\"ironhack\"]\n",
    "collection = db[\"ironcoffee\"]\n",
    "\n",
    "# Load data from JSON file\n",
    "with open(\"data/coffee_shops.json\", \"r\") as f:\n",
    "    coffee_data = json.load(f)\n",
    "\n",
    "# Insert into MongoDB\n",
    "if isinstance(coffee_data, list):\n",
    "    collection.insert_many(coffee_data)\n",
    "else:\n",
    "    collection.insert_one(coffee_data)\n",
    "\n",
    "print(\"✅ Data inserted into MongoDB collection 'ironcoffee'\")\n",
    "\n",
    "# Count how many documents are in the collection\n",
    "print(\"Total documents in 'ironcoffee':\", collection.count_documents({}))\n",
    "\n",
    "# Preview the first document\n",
    "print(collection.find_one())\n",
    "\n"
   ]
  }
 ],
 "metadata": {
  "kernelspec": {
   "display_name": "base",
   "language": "python",
   "name": "python3"
  },
  "language_info": {
   "codemirror_mode": {
    "name": "ipython",
    "version": 3
   },
   "file_extension": ".py",
   "mimetype": "text/x-python",
   "name": "python",
   "nbconvert_exporter": "python",
   "pygments_lexer": "ipython3",
   "version": "3.12.7"
  },
  "toc": {
   "base_numbering": 1,
   "nav_menu": {},
   "number_sections": true,
   "sideBar": true,
   "skip_h1_title": false,
   "title_cell": "Table of Contents",
   "title_sidebar": "Contents",
   "toc_cell": false,
   "toc_position": {},
   "toc_section_display": true,
   "toc_window_display": true
  }
 },
 "nbformat": 4,
 "nbformat_minor": 5
}
