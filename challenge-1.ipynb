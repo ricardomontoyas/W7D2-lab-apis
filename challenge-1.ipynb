{
 "cells": [
  {
   "cell_type": "markdown",
   "id": "e9e71538",
   "metadata": {},
   "source": [
    "# Setup"
   ]
  },
  {
   "cell_type": "markdown",
   "id": "7eac3132",
   "metadata": {},
   "source": [
    "# 1. Sign up as a developer in 4square Places API"
   ]
  },
  {
   "cell_type": "markdown",
   "id": "3f8045b2",
   "metadata": {},
   "source": [
    "[Docs](https://foursquare.com/developers/home)"
   ]
  },
  {
   "cell_type": "markdown",
   "id": "4cb5ca78",
   "metadata": {},
   "source": [
    "# 2. Create a project"
   ]
  },
  {
   "cell_type": "code",
   "execution_count": null,
   "id": "c86677ec",
   "metadata": {},
   "outputs": [],
   "source": [
    "# no code needed"
   ]
  },
  {
   "cell_type": "markdown",
   "id": "bdf43ce0",
   "metadata": {},
   "source": [
    "# 3. Get the token from the project"
   ]
  },
  {
   "cell_type": "code",
   "execution_count": null,
   "id": "f578f4fa",
   "metadata": {},
   "outputs": [],
   "source": [
    "# fsq3p5YfeHVD4bPlnb3O0QwQiRrrK4qchTA58TyTMyyWAnU="
   ]
  },
  {
   "cell_type": "markdown",
   "id": "df341f75",
   "metadata": {},
   "source": [
    "# 4. Hide the token using getpass library "
   ]
  },
  {
   "cell_type": "code",
   "execution_count": null,
   "id": "7d086427",
   "metadata": {},
   "outputs": [],
   "source": [
    "from getpass import getpass\n",
    "\n",
    "# The prompt should be a message, not the token\n",
    "api_key = getpass(\"Paste your Foursquare API token here: \")\n",
    "\n",
    "headers = {\n",
    "    \"Authorization\": api_key\n",
    "}\n"
   ]
  },
  {
   "cell_type": "markdown",
   "id": "df041b10",
   "metadata": {},
   "source": [
    "For projects, you'll use `.env`"
   ]
  },
  {
   "cell_type": "markdown",
   "id": "60a54335",
   "metadata": {},
   "source": [
    "⚠️ DO NOT push your token"
   ]
  }
 ],
 "metadata": {
  "kernelspec": {
   "display_name": "base",
   "language": "python",
   "name": "python3"
  },
  "language_info": {
   "codemirror_mode": {
    "name": "ipython",
    "version": 3
   },
   "file_extension": ".py",
   "mimetype": "text/x-python",
   "name": "python",
   "nbconvert_exporter": "python",
   "pygments_lexer": "ipython3",
   "version": "3.12.7"
  },
  "toc": {
   "base_numbering": 1,
   "nav_menu": {},
   "number_sections": true,
   "sideBar": true,
   "skip_h1_title": false,
   "title_cell": "Table of Contents",
   "title_sidebar": "Contents",
   "toc_cell": false,
   "toc_position": {},
   "toc_section_display": true,
   "toc_window_display": true
  }
 },
 "nbformat": 4,
 "nbformat_minor": 5
}
